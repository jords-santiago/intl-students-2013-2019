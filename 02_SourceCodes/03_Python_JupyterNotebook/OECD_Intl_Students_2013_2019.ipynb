{
 "cells": [
  {
   "cell_type": "markdown",
   "metadata": {},
   "source": [
    "# OECD International Students' Analysis using Python/Jupyter Notebook\n",
    "\n",
    "## Import initial packages"
   ]
  },
  {
   "cell_type": "code",
   "execution_count": 4,
   "metadata": {},
   "outputs": [],
   "source": [
    "import numpy as np\n",
    "import pandas as pd\n",
    "import seaborn as sns\n",
    "import matplotlib.pyplot as plt"
   ]
  },
  {
   "cell_type": "markdown",
   "metadata": {},
   "source": [
    "## Load datasets"
   ]
  },
  {
   "cell_type": "code",
   "execution_count": 5,
   "metadata": {},
   "outputs": [],
   "source": [
    "intl_students_df = pd.read_csv('../../01_DataSources/02_Cleaned/Intl_Student_Origin_2013_2019.csv')\n",
    "wdi_df = pd.read_csv('../../01_DataSources/01_Raw/02_WORLD_BANK/WORLD_BANK_SELECTED_WDI_2013_2019.csv')"
   ]
  },
  {
   "cell_type": "markdown",
   "metadata": {},
   "source": [
    "## Preparation/Cleaning\n",
    "\n",
    "### International Students' Origin"
   ]
  },
  {
   "cell_type": "code",
   "execution_count": 6,
   "metadata": {},
   "outputs": [
    {
     "data": {
      "text/html": [
       "<div>\n",
       "<style scoped>\n",
       "    .dataframe tbody tr th:only-of-type {\n",
       "        vertical-align: middle;\n",
       "    }\n",
       "\n",
       "    .dataframe tbody tr th {\n",
       "        vertical-align: top;\n",
       "    }\n",
       "\n",
       "    .dataframe thead th {\n",
       "        text-align: right;\n",
       "    }\n",
       "</style>\n",
       "<table border=\"1\" class=\"dataframe\">\n",
       "  <thead>\n",
       "    <tr style=\"text-align: right;\">\n",
       "      <th></th>\n",
       "      <th>COUNTRY_OF_ORIGIN</th>\n",
       "      <th>ORIGIN_COUNTRY_CODE</th>\n",
       "      <th>YEAR</th>\n",
       "      <th>TOTAL_INT_STUDENTS</th>\n",
       "    </tr>\n",
       "  </thead>\n",
       "  <tbody>\n",
       "    <tr>\n",
       "      <th>0</th>\n",
       "      <td>New Zealand</td>\n",
       "      <td>NZL</td>\n",
       "      <td>2013</td>\n",
       "      <td>10392</td>\n",
       "    </tr>\n",
       "    <tr>\n",
       "      <th>1</th>\n",
       "      <td>Palau</td>\n",
       "      <td>PLW</td>\n",
       "      <td>2013</td>\n",
       "      <td>78</td>\n",
       "    </tr>\n",
       "    <tr>\n",
       "      <th>2</th>\n",
       "      <td>Slovakia</td>\n",
       "      <td>SVK</td>\n",
       "      <td>2013</td>\n",
       "      <td>65818</td>\n",
       "    </tr>\n",
       "    <tr>\n",
       "      <th>3</th>\n",
       "      <td>Latvia</td>\n",
       "      <td>LVA</td>\n",
       "      <td>2016</td>\n",
       "      <td>10953</td>\n",
       "    </tr>\n",
       "    <tr>\n",
       "      <th>4</th>\n",
       "      <td>Cuba</td>\n",
       "      <td>CUB</td>\n",
       "      <td>2013</td>\n",
       "      <td>2789</td>\n",
       "    </tr>\n",
       "  </tbody>\n",
       "</table>\n",
       "</div>"
      ],
      "text/plain": [
       "  COUNTRY_OF_ORIGIN ORIGIN_COUNTRY_CODE  YEAR  TOTAL_INT_STUDENTS\n",
       "0       New Zealand                 NZL  2013               10392\n",
       "1             Palau                 PLW  2013                  78\n",
       "2          Slovakia                 SVK  2013               65818\n",
       "3            Latvia                 LVA  2016               10953\n",
       "4              Cuba                 CUB  2013                2789"
      ]
     },
     "execution_count": 6,
     "metadata": {},
     "output_type": "execute_result"
    }
   ],
   "source": [
    "intl_students_df.head()"
   ]
  },
  {
   "cell_type": "code",
   "execution_count": 7,
   "metadata": {},
   "outputs": [
    {
     "data": {
      "text/plain": [
       "COUNTRY_OF_ORIGIN      object\n",
       "ORIGIN_COUNTRY_CODE    object\n",
       "YEAR                    int64\n",
       "TOTAL_INT_STUDENTS      int64\n",
       "dtype: object"
      ]
     },
     "execution_count": 7,
     "metadata": {},
     "output_type": "execute_result"
    }
   ],
   "source": [
    "intl_students_df.dtypes"
   ]
  },
  {
   "cell_type": "code",
   "execution_count": 8,
   "metadata": {},
   "outputs": [],
   "source": [
    "intl_students_df.rename(columns={'ORIGIN_COUNTRY_CODE':'COUNTRY_CODE', 'TOTAL_INT_STUDENTS':'TOTAL_INTL_STUDENTS'}, inplace=True)"
   ]
  },
  {
   "cell_type": "markdown",
   "metadata": {},
   "source": [
    "### World Bank World Development Indicators"
   ]
  },
  {
   "cell_type": "code",
   "execution_count": 9,
   "metadata": {},
   "outputs": [
    {
     "data": {
      "text/html": [
       "<div>\n",
       "<style scoped>\n",
       "    .dataframe tbody tr th:only-of-type {\n",
       "        vertical-align: middle;\n",
       "    }\n",
       "\n",
       "    .dataframe tbody tr th {\n",
       "        vertical-align: top;\n",
       "    }\n",
       "\n",
       "    .dataframe thead th {\n",
       "        text-align: right;\n",
       "    }\n",
       "</style>\n",
       "<table border=\"1\" class=\"dataframe\">\n",
       "  <thead>\n",
       "    <tr style=\"text-align: right;\">\n",
       "      <th></th>\n",
       "      <th>COUNTRY</th>\n",
       "      <th>COUNTRY_CODE</th>\n",
       "      <th>SERIES_NAME</th>\n",
       "      <th>SERIES_CODE</th>\n",
       "      <th>YEAR</th>\n",
       "      <th>VALUE</th>\n",
       "    </tr>\n",
       "  </thead>\n",
       "  <tbody>\n",
       "    <tr>\n",
       "      <th>0</th>\n",
       "      <td>Afghanistan</td>\n",
       "      <td>AFG</td>\n",
       "      <td>GDP (current US$)</td>\n",
       "      <td>NY.GDP.MKTP.CD</td>\n",
       "      <td>2013</td>\n",
       "      <td>20146404996</td>\n",
       "    </tr>\n",
       "    <tr>\n",
       "      <th>1</th>\n",
       "      <td>Afghanistan</td>\n",
       "      <td>AFG</td>\n",
       "      <td>GDP (current US$)</td>\n",
       "      <td>NY.GDP.MKTP.CD</td>\n",
       "      <td>2014</td>\n",
       "      <td>20497126770</td>\n",
       "    </tr>\n",
       "    <tr>\n",
       "      <th>2</th>\n",
       "      <td>Afghanistan</td>\n",
       "      <td>AFG</td>\n",
       "      <td>GDP (current US$)</td>\n",
       "      <td>NY.GDP.MKTP.CD</td>\n",
       "      <td>2015</td>\n",
       "      <td>19134211764</td>\n",
       "    </tr>\n",
       "    <tr>\n",
       "      <th>3</th>\n",
       "      <td>Afghanistan</td>\n",
       "      <td>AFG</td>\n",
       "      <td>GDP (current US$)</td>\n",
       "      <td>NY.GDP.MKTP.CD</td>\n",
       "      <td>2016</td>\n",
       "      <td>18116562465</td>\n",
       "    </tr>\n",
       "    <tr>\n",
       "      <th>4</th>\n",
       "      <td>Afghanistan</td>\n",
       "      <td>AFG</td>\n",
       "      <td>GDP (current US$)</td>\n",
       "      <td>NY.GDP.MKTP.CD</td>\n",
       "      <td>2017</td>\n",
       "      <td>18753469630</td>\n",
       "    </tr>\n",
       "  </tbody>\n",
       "</table>\n",
       "</div>"
      ],
      "text/plain": [
       "       COUNTRY COUNTRY_CODE        SERIES_NAME     SERIES_CODE  YEAR  \\\n",
       "0  Afghanistan          AFG  GDP (current US$)  NY.GDP.MKTP.CD  2013   \n",
       "1  Afghanistan          AFG  GDP (current US$)  NY.GDP.MKTP.CD  2014   \n",
       "2  Afghanistan          AFG  GDP (current US$)  NY.GDP.MKTP.CD  2015   \n",
       "3  Afghanistan          AFG  GDP (current US$)  NY.GDP.MKTP.CD  2016   \n",
       "4  Afghanistan          AFG  GDP (current US$)  NY.GDP.MKTP.CD  2017   \n",
       "\n",
       "         VALUE  \n",
       "0  20146404996  \n",
       "1  20497126770  \n",
       "2  19134211764  \n",
       "3  18116562465  \n",
       "4  18753469630  "
      ]
     },
     "execution_count": 9,
     "metadata": {},
     "output_type": "execute_result"
    }
   ],
   "source": [
    "wdi_df.head()"
   ]
  },
  {
   "cell_type": "code",
   "execution_count": 10,
   "metadata": {},
   "outputs": [
    {
     "data": {
      "text/plain": [
       "COUNTRY         object\n",
       "COUNTRY_CODE    object\n",
       "SERIES_NAME     object\n",
       "SERIES_CODE     object\n",
       "YEAR             int64\n",
       "VALUE           object\n",
       "dtype: object"
      ]
     },
     "execution_count": 10,
     "metadata": {},
     "output_type": "execute_result"
    }
   ],
   "source": [
    "wdi_df.dtypes"
   ]
  },
  {
   "cell_type": "code",
   "execution_count": 11,
   "metadata": {},
   "outputs": [
    {
     "data": {
      "text/plain": [
       "{'EN.POP.DNST',\n",
       " 'NY.GDP.MKTP.CD',\n",
       " 'NY.GDP.MKTP.KD.ZG',\n",
       " 'NY.GDP.PCAP.CD',\n",
       " 'NY.GDP.PCAP.KD.ZG',\n",
       " 'SE.XPD.CTER.ZS',\n",
       " 'SE.XPD.TERT.PC.ZS',\n",
       " 'SE.XPD.TERT.ZS',\n",
       " 'SL.UEM.ADVN.ZS',\n",
       " 'SP.POP.GROW',\n",
       " 'SP.POP.TOTL',\n",
       " 'SP.RUR.TOTL.ZG',\n",
       " 'SP.URB.GROW'}"
      ]
     },
     "execution_count": 11,
     "metadata": {},
     "output_type": "execute_result"
    }
   ],
   "source": [
    "set(wdi_df.SERIES_CODE)"
   ]
  },
  {
   "cell_type": "markdown",
   "metadata": {},
   "source": [
    "#### Indicator Table\n",
    "\n",
    "| Indicator Code | Description |\n",
    "| --- | --- |\n",
    "| NY.GDP.MKTP.KD.ZG| GDP growth (annual %) |\n",
    "| NY.GDP.PCAP.CD| GDP per capita (current USD) |\n",
    "| NY.GDP.MKTP.CD | GDP (current USD) |\n",
    "| SP.POP.TOTL | Population, total |\n",
    "| SE.XPD.CTER.ZS | Current education expenditure, tertiary (% of total expenditure in tertiary public institutions) |\n",
    "| SE.XPD.TERT.PC.ZS| Government expenditure per student, tertiary (% of GDP per capita) |\n",
    "| SE.XPD.TERT.ZS | Expenditure on tertiary education (% of government expenditure on education) |\n",
    "| EN.POP.DNST | Population density (people per sq. km of land area) |\n",
    "| SL.UEM.ADVN.ZS | Unemployment with advanced education (% of total labor force with advanced education) |\n",
    "| SP.POP.GROW | Population growth (annual %) |\n",
    "| SP.URB.GROW | Urban population growth (annual %) |\n",
    "| NY.GDP.PCAP.KD.ZG| GDP per capita growth (annual %) |\n",
    "| SP.RUR.TOTL.ZG | Rural population growth (annual %) |"
   ]
  },
  {
   "cell_type": "markdown",
   "metadata": {},
   "source": [
    "#### EN.POP.DNST - Population density (people per sq. km of land area) "
   ]
  },
  {
   "cell_type": "code",
   "execution_count": 12,
   "metadata": {},
   "outputs": [
    {
     "data": {
      "text/plain": [
       "(1853, 3)"
      ]
     },
     "execution_count": 12,
     "metadata": {},
     "output_type": "execute_result"
    }
   ],
   "source": [
    "EN_POP_DNST_df = wdi_df.copy()\n",
    "EN_POP_DNST_df = EN_POP_DNST_df[EN_POP_DNST_df['SERIES_CODE']=='EN.POP.DNST']\\\n",
    "                 .replace(r'\\.\\.',np.nan,regex=True).dropna().astype({'VALUE':'float'})\n",
    "EN_POP_DNST_df.rename(columns={'VALUE':'EN.POP.DNST'}, inplace=True)\n",
    "EN_POP_DNST_df.drop(['COUNTRY', 'SERIES_NAME', 'SERIES_CODE'],axis=1,inplace=True)\n",
    "EN_POP_DNST_df.shape"
   ]
  },
  {
   "cell_type": "markdown",
   "metadata": {},
   "source": [
    "#### NY.GDP.MKTP.CD - GDP (current USD)"
   ]
  },
  {
   "cell_type": "code",
   "execution_count": 13,
   "metadata": {},
   "outputs": [
    {
     "data": {
      "text/plain": [
       "(1794, 3)"
      ]
     },
     "execution_count": 13,
     "metadata": {},
     "output_type": "execute_result"
    }
   ],
   "source": [
    "NY_GDP_MKTP_CD_df = wdi_df.copy()\n",
    "NY_GDP_MKTP_CD_df = NY_GDP_MKTP_CD_df[NY_GDP_MKTP_CD_df['SERIES_CODE']=='NY.GDP.MKTP.CD']\\\n",
    "                    .replace(r'\\.\\.',np.nan,regex=True).dropna().astype({'VALUE':'float'})\n",
    "NY_GDP_MKTP_CD_df.rename(columns={'VALUE':'NY.GDP.MKTP.CD'}, inplace=True)\n",
    "NY_GDP_MKTP_CD_df.drop(['COUNTRY', 'SERIES_NAME', 'SERIES_CODE'],axis=1,inplace=True)\n",
    "NY_GDP_MKTP_CD_df.shape"
   ]
  },
  {
   "cell_type": "markdown",
   "metadata": {},
   "source": [
    "#### NY.GDP.MKTP.KD.ZG - GDP growth (annual %)"
   ]
  },
  {
   "cell_type": "code",
   "execution_count": 14,
   "metadata": {},
   "outputs": [
    {
     "data": {
      "text/plain": [
       "(1774, 3)"
      ]
     },
     "execution_count": 14,
     "metadata": {},
     "output_type": "execute_result"
    }
   ],
   "source": [
    "NY_GDP_MKTP_KD_ZG_df = wdi_df.copy()\n",
    "NY_GDP_MKTP_KD_ZG_df = NY_GDP_MKTP_KD_ZG_df[NY_GDP_MKTP_KD_ZG_df['SERIES_CODE']=='NY.GDP.MKTP.KD.ZG']\\\n",
    "                       .replace(r'\\.\\.',np.nan,regex=True).dropna().astype({'VALUE':'float'})\n",
    "NY_GDP_MKTP_KD_ZG_df.rename(columns={'VALUE':'NY.GDP.MKTP.KD.ZG'}, inplace=True)\n",
    "NY_GDP_MKTP_KD_ZG_df.drop(['COUNTRY', 'SERIES_NAME', 'SERIES_CODE'],axis=1,inplace=True)\n",
    "NY_GDP_MKTP_KD_ZG_df.shape"
   ]
  },
  {
   "cell_type": "markdown",
   "metadata": {},
   "source": [
    "#### NY.GDP.PCAP.CD - GDP per capita (current USD)"
   ]
  },
  {
   "cell_type": "code",
   "execution_count": 15,
   "metadata": {},
   "outputs": [
    {
     "data": {
      "text/plain": [
       "(1794, 3)"
      ]
     },
     "execution_count": 15,
     "metadata": {},
     "output_type": "execute_result"
    }
   ],
   "source": [
    "NY_GDP_PCAP_CD_df = wdi_df.copy()\n",
    "NY_GDP_PCAP_CD_df = NY_GDP_PCAP_CD_df[NY_GDP_PCAP_CD_df['SERIES_CODE']=='NY.GDP.PCAP.CD']\\\n",
    "                    .replace(r'\\.\\.',np.nan,regex=True).dropna().astype({'VALUE':'float'})\n",
    "NY_GDP_PCAP_CD_df.rename(columns={'VALUE':'NY.GDP.PCAP.CD'}, inplace=True)\n",
    "NY_GDP_PCAP_CD_df.drop(['COUNTRY', 'SERIES_NAME', 'SERIES_CODE'],axis=1,inplace=True)\n",
    "NY_GDP_PCAP_CD_df.shape"
   ]
  },
  {
   "cell_type": "markdown",
   "metadata": {},
   "source": [
    "#### NY.GDP.PCAP.KD.ZG - GDP per capita growth (annual %)"
   ]
  },
  {
   "cell_type": "code",
   "execution_count": 16,
   "metadata": {},
   "outputs": [
    {
     "data": {
      "text/plain": [
       "(1774, 3)"
      ]
     },
     "execution_count": 16,
     "metadata": {},
     "output_type": "execute_result"
    }
   ],
   "source": [
    "NY_GDP_PCAP_KD_ZG_df = wdi_df.copy()\n",
    "NY_GDP_PCAP_KD_ZG_df = NY_GDP_PCAP_KD_ZG_df[NY_GDP_PCAP_KD_ZG_df['SERIES_CODE']=='NY.GDP.PCAP.KD.ZG']\\\n",
    "                       .replace(r'\\.\\.',np.nan,regex=True).dropna().astype({'VALUE':'float'})\n",
    "NY_GDP_PCAP_KD_ZG_df.rename(columns={'VALUE':'NY.GDP.PCAP.KD.ZG'}, inplace=True)\n",
    "NY_GDP_PCAP_KD_ZG_df.drop(['COUNTRY', 'SERIES_NAME', 'SERIES_CODE'],axis=1,inplace=True)\n",
    "NY_GDP_PCAP_KD_ZG_df.shape"
   ]
  },
  {
   "cell_type": "markdown",
   "metadata": {},
   "source": [
    "#### SE.XPD.CTER.ZS - Current education expenditure, tertiary (% of total expenditure in tertiary public institutions)"
   ]
  },
  {
   "cell_type": "code",
   "execution_count": 17,
   "metadata": {},
   "outputs": [
    {
     "data": {
      "text/plain": [
       "(606, 3)"
      ]
     },
     "execution_count": 17,
     "metadata": {},
     "output_type": "execute_result"
    }
   ],
   "source": [
    "SE_XPD_CTER_ZS_df = wdi_df.copy()\n",
    "SE_XPD_CTER_ZS_df = SE_XPD_CTER_ZS_df[SE_XPD_CTER_ZS_df['SERIES_CODE']=='SE.XPD.CTER.ZS']\\\n",
    "                    .replace(r'\\.\\.',np.nan,regex=True).dropna().astype({'VALUE':'float'})\n",
    "SE_XPD_CTER_ZS_df.rename(columns={'VALUE':'SE.XPD.CTER.ZS'}, inplace=True)\n",
    "SE_XPD_CTER_ZS_df.drop(['COUNTRY', 'SERIES_NAME', 'SERIES_CODE'],axis=1,inplace=True)\n",
    "SE_XPD_CTER_ZS_df.shape"
   ]
  },
  {
   "cell_type": "markdown",
   "metadata": {},
   "source": [
    "#### SE.XPD.TERT.PC.ZS - Government expenditure per student, tertiary (% of GDP per capita)"
   ]
  },
  {
   "cell_type": "code",
   "execution_count": 18,
   "metadata": {},
   "outputs": [
    {
     "data": {
      "text/plain": [
       "(460, 3)"
      ]
     },
     "execution_count": 18,
     "metadata": {},
     "output_type": "execute_result"
    }
   ],
   "source": [
    "SE_XPD_TERT_PC_ZS_df = wdi_df.copy()\n",
    "SE_XPD_TERT_PC_ZS_df = SE_XPD_TERT_PC_ZS_df[SE_XPD_TERT_PC_ZS_df['SERIES_CODE']=='SE.XPD.TERT.PC.ZS']\\\n",
    "                       .replace(r'\\.\\.',np.nan,regex=True).dropna().astype({'VALUE':'float'})\n",
    "SE_XPD_TERT_PC_ZS_df.rename(columns={'VALUE':'SE.XPD.TERT.PC.ZS'}, inplace=True)\n",
    "SE_XPD_TERT_PC_ZS_df.drop(['COUNTRY', 'SERIES_NAME', 'SERIES_CODE'],axis=1,inplace=True)\n",
    "SE_XPD_TERT_PC_ZS_df.shape"
   ]
  },
  {
   "cell_type": "markdown",
   "metadata": {},
   "source": [
    "#### SE.XPD.TERT.ZS - Expenditure on tertiary education (% of government expenditure on education)"
   ]
  },
  {
   "cell_type": "code",
   "execution_count": 19,
   "metadata": {},
   "outputs": [
    {
     "data": {
      "text/plain": [
       "(536, 3)"
      ]
     },
     "execution_count": 19,
     "metadata": {},
     "output_type": "execute_result"
    }
   ],
   "source": [
    "SE_XPD_TERT_ZS_df = wdi_df.copy()\n",
    "SE_XPD_TERT_ZS_df = SE_XPD_TERT_ZS_df[SE_XPD_TERT_ZS_df['SERIES_CODE']=='SE.XPD.TERT.ZS']\\\n",
    "                    .replace(r'\\.\\.',np.nan,regex=True).dropna().astype({'VALUE':'float'})\n",
    "SE_XPD_TERT_ZS_df.rename(columns={'VALUE':'SE.XPD.TERT.ZS'}, inplace=True)\n",
    "SE_XPD_TERT_ZS_df.drop(['COUNTRY', 'SERIES_NAME', 'SERIES_CODE'],axis=1,inplace=True)\n",
    "SE_XPD_TERT_ZS_df.shape"
   ]
  },
  {
   "cell_type": "markdown",
   "metadata": {},
   "source": [
    "#### SL.UEM.ADVN.ZS - Unemployment with advanced education (% of total labor force with advanced education)"
   ]
  },
  {
   "cell_type": "code",
   "execution_count": 20,
   "metadata": {},
   "outputs": [
    {
     "data": {
      "text/plain": [
       "(844, 3)"
      ]
     },
     "execution_count": 20,
     "metadata": {},
     "output_type": "execute_result"
    }
   ],
   "source": [
    "SL_UEM_ADVN_ZS_df = wdi_df.copy()\n",
    "SL_UEM_ADVN_ZS_df = SL_UEM_ADVN_ZS_df[SL_UEM_ADVN_ZS_df['SERIES_CODE']=='SL.UEM.ADVN.ZS']\\\n",
    "                    .replace(r'\\.\\.',np.nan,regex=True).dropna().astype({'VALUE':'float'})\n",
    "SL_UEM_ADVN_ZS_df.rename(columns={'VALUE':'SL.UEM.ADVN.ZS'}, inplace=True)\n",
    "SL_UEM_ADVN_ZS_df.drop(['COUNTRY', 'SERIES_NAME', 'SERIES_CODE'],axis=1,inplace=True)\n",
    "SL_UEM_ADVN_ZS_df.shape"
   ]
  },
  {
   "cell_type": "markdown",
   "metadata": {},
   "source": [
    "#### SP.POP.GROW - Population growth (annual %)"
   ]
  },
  {
   "cell_type": "code",
   "execution_count": 21,
   "metadata": {},
   "outputs": [
    {
     "data": {
      "text/plain": [
       "(1848, 3)"
      ]
     },
     "execution_count": 21,
     "metadata": {},
     "output_type": "execute_result"
    }
   ],
   "source": [
    "SP_POP_GROW_df = wdi_df.copy()\n",
    "SP_POP_GROW_df = SP_POP_GROW_df[SP_POP_GROW_df['SERIES_CODE']=='SP.POP.GROW']\\\n",
    "                 .replace(r'\\.\\.',np.nan,regex=True).dropna().astype({'VALUE':'float'})\n",
    "SP_POP_GROW_df.rename(columns={'VALUE':'SP.POP.GROW'}, inplace=True)\n",
    "SP_POP_GROW_df.drop(['COUNTRY', 'SERIES_NAME', 'SERIES_CODE'],axis=1,inplace=True)\n",
    "SP_POP_GROW_df.shape"
   ]
  },
  {
   "cell_type": "markdown",
   "metadata": {},
   "source": [
    "#### SP.POP.TOTL - Population, total"
   ]
  },
  {
   "cell_type": "code",
   "execution_count": 22,
   "metadata": {},
   "outputs": [
    {
     "data": {
      "text/plain": [
       "(1848, 3)"
      ]
     },
     "execution_count": 22,
     "metadata": {},
     "output_type": "execute_result"
    }
   ],
   "source": [
    "SP_POP_TOTL_df = wdi_df.copy()\n",
    "SP_POP_TOTL_df = SP_POP_TOTL_df[SP_POP_TOTL_df['SERIES_CODE']=='SP.POP.TOTL']\\\n",
    "                 .replace(r'\\.\\.',np.nan,regex=True).dropna().astype({'VALUE':'int64'})\n",
    "SP_POP_TOTL_df.rename(columns={'VALUE':'SP.POP.TOTL'}, inplace=True)\n",
    "SP_POP_TOTL_df.drop(['COUNTRY', 'SERIES_NAME', 'SERIES_CODE'],axis=1,inplace=True)\n",
    "SP_POP_TOTL_df.shape"
   ]
  },
  {
   "cell_type": "markdown",
   "metadata": {},
   "source": [
    "#### SP.RUR.TOTL.ZG | Rural population growth (annual %)"
   ]
  },
  {
   "cell_type": "code",
   "execution_count": 23,
   "metadata": {},
   "outputs": [
    {
     "data": {
      "text/plain": [
       "(1764, 3)"
      ]
     },
     "execution_count": 23,
     "metadata": {},
     "output_type": "execute_result"
    }
   ],
   "source": [
    "SP_RUR_TOTL_ZG_df = wdi_df.copy()\n",
    "SP_RUR_TOTL_ZG_df = SP_RUR_TOTL_ZG_df[SP_RUR_TOTL_ZG_df['SERIES_CODE']=='SP.RUR.TOTL.ZG']\\\n",
    "                    .replace(r'\\.\\.',np.nan,regex=True).dropna().astype({'VALUE':'float'})\n",
    "SP_RUR_TOTL_ZG_df.rename(columns={'VALUE':'SP.RUR.TOTL.ZG'}, inplace=True)\n",
    "SP_RUR_TOTL_ZG_df.drop(['COUNTRY', 'SERIES_NAME', 'SERIES_CODE'],axis=1,inplace=True)\n",
    "SP_RUR_TOTL_ZG_df.shape"
   ]
  },
  {
   "cell_type": "markdown",
   "metadata": {},
   "source": [
    "#### SP.URB.GROW - Urban population growth (annual %)"
   ]
  },
  {
   "cell_type": "code",
   "execution_count": 24,
   "metadata": {},
   "outputs": [
    {
     "data": {
      "text/plain": [
       "(1834, 3)"
      ]
     },
     "execution_count": 24,
     "metadata": {},
     "output_type": "execute_result"
    }
   ],
   "source": [
    "SP_URB_GROW_df = wdi_df.copy()\n",
    "SP_URB_GROW_df = SP_URB_GROW_df[SP_URB_GROW_df['SERIES_CODE']=='SP.URB.GROW']\\\n",
    "                 .replace(r'\\.\\.',np.nan,regex=True).dropna().astype({'VALUE':'float'})\n",
    "SP_URB_GROW_df.rename(columns={'VALUE':'SP.URB.GROW'}, inplace=True)\n",
    "SP_URB_GROW_df.drop(['COUNTRY', 'SERIES_NAME', 'SERIES_CODE'],axis=1,inplace=True)\n",
    "SP_URB_GROW_df.shape"
   ]
  },
  {
   "cell_type": "markdown",
   "metadata": {},
   "source": [
    "Based on the features extracted from the World Bank Databank, unfortunately, 4 features was chosen to be removed because there are to few non-NaN records remaining:\n",
    "\n",
    "SE.XPD.CTER.ZS\n",
    "SE.XPD.TERT.PC.ZS\n",
    "SE.XPD.TERT.ZS\n",
    "SL.UEM.ADVN.ZS\n",
    "\n",
    "These are related to Education and Unemployment and it seems they have incomplete data in terms of the time period of 2013-2019 and of some countries\n",
    "\n",
    "Another option moving forward maybe to impute those NaN records with the mean/median of the series."
   ]
  },
  {
   "cell_type": "code",
   "execution_count": 26,
   "metadata": {},
   "outputs": [],
   "source": [
    "resdf = intl_students_df.merge(EN_POP_DNST_df, how='left', on=['COUNTRY_CODE', 'YEAR'])\\\n",
    "        .merge(NY_GDP_MKTP_CD_df, how='left', on=['COUNTRY_CODE', 'YEAR'])\\\n",
    "        .merge(NY_GDP_MKTP_KD_ZG_df, how='left', on=['COUNTRY_CODE', 'YEAR'])\\\n",
    "        .merge(NY_GDP_PCAP_CD_df, how='left', on=['COUNTRY_CODE', 'YEAR'])\\\n",
    "        .merge(NY_GDP_PCAP_KD_ZG_df, how='left', on=['COUNTRY_CODE', 'YEAR'])\\\n",
    "        .merge(SP_POP_GROW_df, how='left', on=['COUNTRY_CODE', 'YEAR'])\\\n",
    "        .merge(SP_POP_TOTL_df, how='left', on=['COUNTRY_CODE', 'YEAR'])\\\n",
    "        .merge(SP_RUR_TOTL_ZG_df, how='left', on=['COUNTRY_CODE', 'YEAR'])\\\n",
    "        .merge(SP_URB_GROW_df, how='left', on=['COUNTRY_CODE', 'YEAR'])"
   ]
  },
  {
   "cell_type": "code",
   "execution_count": 27,
   "metadata": {},
   "outputs": [
    {
     "data": {
      "text/html": [
       "<div>\n",
       "<style scoped>\n",
       "    .dataframe tbody tr th:only-of-type {\n",
       "        vertical-align: middle;\n",
       "    }\n",
       "\n",
       "    .dataframe tbody tr th {\n",
       "        vertical-align: top;\n",
       "    }\n",
       "\n",
       "    .dataframe thead th {\n",
       "        text-align: right;\n",
       "    }\n",
       "</style>\n",
       "<table border=\"1\" class=\"dataframe\">\n",
       "  <thead>\n",
       "    <tr style=\"text-align: right;\">\n",
       "      <th></th>\n",
       "      <th>COUNTRY_OF_ORIGIN</th>\n",
       "      <th>COUNTRY_CODE</th>\n",
       "      <th>YEAR</th>\n",
       "      <th>TOTAL_INTL_STUDENTS</th>\n",
       "      <th>EN.POP.DNST</th>\n",
       "      <th>NY.GDP.MKTP.CD</th>\n",
       "      <th>NY.GDP.MKTP.KD.ZG</th>\n",
       "      <th>NY.GDP.PCAP.CD</th>\n",
       "      <th>NY.GDP.PCAP.KD.ZG</th>\n",
       "      <th>SP.POP.GROW</th>\n",
       "      <th>SP.POP.TOTL</th>\n",
       "      <th>SP.RUR.TOTL.ZG</th>\n",
       "      <th>SP.URB.GROW</th>\n",
       "    </tr>\n",
       "  </thead>\n",
       "  <tbody>\n",
       "    <tr>\n",
       "      <th>0</th>\n",
       "      <td>New Zealand</td>\n",
       "      <td>NZL</td>\n",
       "      <td>2013</td>\n",
       "      <td>10392</td>\n",
       "      <td>16.870229</td>\n",
       "      <td>1.909066e+11</td>\n",
       "      <td>2.695784</td>\n",
       "      <td>42976.64959</td>\n",
       "      <td>1.909746</td>\n",
       "      <td>0.768348</td>\n",
       "      <td>4442100.0</td>\n",
       "      <td>0.333848</td>\n",
       "      <td>0.837961</td>\n",
       "    </tr>\n",
       "    <tr>\n",
       "      <th>1</th>\n",
       "      <td>Palau</td>\n",
       "      <td>PLW</td>\n",
       "      <td>2013</td>\n",
       "      <td>78</td>\n",
       "      <td>38.267391</td>\n",
       "      <td>2.211172e+08</td>\n",
       "      <td>-3.387316</td>\n",
       "      <td>12561.33614</td>\n",
       "      <td>-3.211687</td>\n",
       "      <td>-0.181622</td>\n",
       "      <td>17603.0</td>\n",
       "      <td>-3.022839</td>\n",
       "      <td>0.689735</td>\n",
       "    </tr>\n",
       "    <tr>\n",
       "      <th>2</th>\n",
       "      <td>Slovakia</td>\n",
       "      <td>SVK</td>\n",
       "      <td>2013</td>\n",
       "      <td>65818</td>\n",
       "      <td>112.572638</td>\n",
       "      <td>9.856932e+10</td>\n",
       "      <td>0.654765</td>\n",
       "      <td>18208.41759</td>\n",
       "      <td>0.546662</td>\n",
       "      <td>0.107458</td>\n",
       "      <td>5413393.0</td>\n",
       "      <td>0.413205</td>\n",
       "      <td>-0.150800</td>\n",
       "    </tr>\n",
       "    <tr>\n",
       "      <th>3</th>\n",
       "      <td>Latvia</td>\n",
       "      <td>LVA</td>\n",
       "      <td>2016</td>\n",
       "      <td>10953</td>\n",
       "      <td>31.544382</td>\n",
       "      <td>2.808360e+10</td>\n",
       "      <td>2.367610</td>\n",
       "      <td>14331.75159</td>\n",
       "      <td>3.307420</td>\n",
       "      <td>-0.913885</td>\n",
       "      <td>1959537.0</td>\n",
       "      <td>-1.042043</td>\n",
       "      <td>-0.853577</td>\n",
       "    </tr>\n",
       "    <tr>\n",
       "      <th>4</th>\n",
       "      <td>Cuba</td>\n",
       "      <td>CUB</td>\n",
       "      <td>2013</td>\n",
       "      <td>2789</td>\n",
       "      <td>108.258703</td>\n",
       "      <td>7.714800e+10</td>\n",
       "      <td>2.747603</td>\n",
       "      <td>6837.71168</td>\n",
       "      <td>2.514382</td>\n",
       "      <td>0.227242</td>\n",
       "      <td>11282722.0</td>\n",
       "      <td>0.028919</td>\n",
       "      <td>0.287139</td>\n",
       "    </tr>\n",
       "  </tbody>\n",
       "</table>\n",
       "</div>"
      ],
      "text/plain": [
       "  COUNTRY_OF_ORIGIN COUNTRY_CODE  YEAR  TOTAL_INTL_STUDENTS  EN.POP.DNST  \\\n",
       "0       New Zealand          NZL  2013                10392    16.870229   \n",
       "1             Palau          PLW  2013                   78    38.267391   \n",
       "2          Slovakia          SVK  2013                65818   112.572638   \n",
       "3            Latvia          LVA  2016                10953    31.544382   \n",
       "4              Cuba          CUB  2013                 2789   108.258703   \n",
       "\n",
       "   NY.GDP.MKTP.CD  NY.GDP.MKTP.KD.ZG  NY.GDP.PCAP.CD  NY.GDP.PCAP.KD.ZG  \\\n",
       "0    1.909066e+11           2.695784     42976.64959           1.909746   \n",
       "1    2.211172e+08          -3.387316     12561.33614          -3.211687   \n",
       "2    9.856932e+10           0.654765     18208.41759           0.546662   \n",
       "3    2.808360e+10           2.367610     14331.75159           3.307420   \n",
       "4    7.714800e+10           2.747603      6837.71168           2.514382   \n",
       "\n",
       "   SP.POP.GROW  SP.POP.TOTL  SP.RUR.TOTL.ZG  SP.URB.GROW  \n",
       "0     0.768348    4442100.0        0.333848     0.837961  \n",
       "1    -0.181622      17603.0       -3.022839     0.689735  \n",
       "2     0.107458    5413393.0        0.413205    -0.150800  \n",
       "3    -0.913885    1959537.0       -1.042043    -0.853577  \n",
       "4     0.227242   11282722.0        0.028919     0.287139  "
      ]
     },
     "execution_count": 27,
     "metadata": {},
     "output_type": "execute_result"
    }
   ],
   "source": [
    "resdf.head()"
   ]
  },
  {
   "cell_type": "code",
   "execution_count": 28,
   "metadata": {},
   "outputs": [
    {
     "data": {
      "text/plain": [
       "(1482, 13)"
      ]
     },
     "execution_count": 28,
     "metadata": {},
     "output_type": "execute_result"
    }
   ],
   "source": [
    "resdf.shape"
   ]
  },
  {
   "cell_type": "code",
   "execution_count": 29,
   "metadata": {},
   "outputs": [
    {
     "data": {
      "text/plain": [
       "COUNTRY_OF_ORIGIN       object\n",
       "COUNTRY_CODE            object\n",
       "YEAR                     int64\n",
       "TOTAL_INTL_STUDENTS      int64\n",
       "EN.POP.DNST            float64\n",
       "NY.GDP.MKTP.CD         float64\n",
       "NY.GDP.MKTP.KD.ZG      float64\n",
       "NY.GDP.PCAP.CD         float64\n",
       "NY.GDP.PCAP.KD.ZG      float64\n",
       "SP.POP.GROW            float64\n",
       "SP.POP.TOTL            float64\n",
       "SP.RUR.TOTL.ZG         float64\n",
       "SP.URB.GROW            float64\n",
       "dtype: object"
      ]
     },
     "execution_count": 29,
     "metadata": {},
     "output_type": "execute_result"
    }
   ],
   "source": [
    "resdf.dtypes"
   ]
  },
  {
   "cell_type": "markdown",
   "metadata": {},
   "source": [
    "Need to remove NaN rows as well as year"
   ]
  },
  {
   "cell_type": "code",
   "execution_count": 30,
   "metadata": {},
   "outputs": [],
   "source": [
    "resdf.drop(['YEAR'],axis=1,inplace=True)\n",
    "resdf = resdf.dropna().astype({'SP.POP.TOTL':'int64'})"
   ]
  },
  {
   "cell_type": "code",
   "execution_count": 31,
   "metadata": {},
   "outputs": [
    {
     "data": {
      "text/plain": [
       "(1323, 12)"
      ]
     },
     "execution_count": 31,
     "metadata": {},
     "output_type": "execute_result"
    }
   ],
   "source": [
    "resdf.shape"
   ]
  },
  {
   "cell_type": "code",
   "execution_count": 32,
   "metadata": {},
   "outputs": [
    {
     "data": {
      "text/plain": [
       "COUNTRY_OF_ORIGIN       object\n",
       "COUNTRY_CODE            object\n",
       "TOTAL_INTL_STUDENTS      int64\n",
       "EN.POP.DNST            float64\n",
       "NY.GDP.MKTP.CD         float64\n",
       "NY.GDP.MKTP.KD.ZG      float64\n",
       "NY.GDP.PCAP.CD         float64\n",
       "NY.GDP.PCAP.KD.ZG      float64\n",
       "SP.POP.GROW            float64\n",
       "SP.POP.TOTL              int64\n",
       "SP.RUR.TOTL.ZG         float64\n",
       "SP.URB.GROW            float64\n",
       "dtype: object"
      ]
     },
     "execution_count": 32,
     "metadata": {},
     "output_type": "execute_result"
    }
   ],
   "source": [
    "resdf.dtypes"
   ]
  },
  {
   "cell_type": "markdown",
   "metadata": {},
   "source": [
    "## Total Number of International Students vs World Development Indicators\n",
    "\n",
    "After preparing the datasets, the total number of students is analyzed against the gathered World Development Indicators."
   ]
  },
  {
   "cell_type": "markdown",
   "metadata": {},
   "source": [
    "### Statistics Measures"
   ]
  },
  {
   "cell_type": "code",
   "execution_count": 33,
   "metadata": {},
   "outputs": [
    {
     "name": "stdout",
     "output_type": "stream",
     "text": [
      "Min 10\n",
      "Max 1947447\n",
      "Mean 36748.09977324263\n",
      "Median 9184.0\n",
      "Variance 16556765556.872046\n"
     ]
    }
   ],
   "source": [
    "print('Min', resdf['TOTAL_INTL_STUDENTS'].min())\n",
    "print('Max', resdf['TOTAL_INTL_STUDENTS'].max())\n",
    "print('Mean', resdf['TOTAL_INTL_STUDENTS'].mean())\n",
    "print('Median', resdf['TOTAL_INTL_STUDENTS'].median())\n",
    "print('Variance', resdf['TOTAL_INTL_STUDENTS'].var())"
   ]
  },
  {
   "cell_type": "markdown",
   "metadata": {},
   "source": [
    "There is a large gap of the max value against the mean of the set."
   ]
  },
  {
   "cell_type": "markdown",
   "metadata": {},
   "source": [
    "### Correlation Matrix"
   ]
  },
  {
   "cell_type": "code",
   "execution_count": 34,
   "metadata": {},
   "outputs": [
    {
     "data": {
      "text/html": [
       "<div>\n",
       "<style scoped>\n",
       "    .dataframe tbody tr th:only-of-type {\n",
       "        vertical-align: middle;\n",
       "    }\n",
       "\n",
       "    .dataframe tbody tr th {\n",
       "        vertical-align: top;\n",
       "    }\n",
       "\n",
       "    .dataframe thead th {\n",
       "        text-align: right;\n",
       "    }\n",
       "</style>\n",
       "<table border=\"1\" class=\"dataframe\">\n",
       "  <thead>\n",
       "    <tr style=\"text-align: right;\">\n",
       "      <th></th>\n",
       "      <th>TOTAL_INTL_STUDENTS</th>\n",
       "      <th>EN.POP.DNST</th>\n",
       "      <th>NY.GDP.MKTP.CD</th>\n",
       "      <th>NY.GDP.MKTP.KD.ZG</th>\n",
       "      <th>NY.GDP.PCAP.CD</th>\n",
       "      <th>NY.GDP.PCAP.KD.ZG</th>\n",
       "      <th>SP.POP.GROW</th>\n",
       "      <th>SP.POP.TOTL</th>\n",
       "      <th>SP.RUR.TOTL.ZG</th>\n",
       "      <th>SP.URB.GROW</th>\n",
       "    </tr>\n",
       "  </thead>\n",
       "  <tbody>\n",
       "    <tr>\n",
       "      <th>TOTAL_INTL_STUDENTS</th>\n",
       "      <td>1.000000</td>\n",
       "      <td>0.014146</td>\n",
       "      <td>0.574196</td>\n",
       "      <td>0.075766</td>\n",
       "      <td>0.027982</td>\n",
       "      <td>0.114604</td>\n",
       "      <td>-0.103972</td>\n",
       "      <td>0.851005</td>\n",
       "      <td>-0.151118</td>\n",
       "      <td>-0.024731</td>\n",
       "    </tr>\n",
       "    <tr>\n",
       "      <th>EN.POP.DNST</th>\n",
       "      <td>0.014146</td>\n",
       "      <td>1.000000</td>\n",
       "      <td>-0.014259</td>\n",
       "      <td>0.061185</td>\n",
       "      <td>0.089346</td>\n",
       "      <td>0.032974</td>\n",
       "      <td>0.082916</td>\n",
       "      <td>0.054195</td>\n",
       "      <td>0.065446</td>\n",
       "      <td>0.048692</td>\n",
       "    </tr>\n",
       "    <tr>\n",
       "      <th>NY.GDP.MKTP.CD</th>\n",
       "      <td>0.574196</td>\n",
       "      <td>-0.014259</td>\n",
       "      <td>1.000000</td>\n",
       "      <td>-0.001524</td>\n",
       "      <td>0.255522</td>\n",
       "      <td>0.040001</td>\n",
       "      <td>-0.120258</td>\n",
       "      <td>0.556573</td>\n",
       "      <td>-0.146627</td>\n",
       "      <td>-0.098193</td>\n",
       "    </tr>\n",
       "    <tr>\n",
       "      <th>NY.GDP.MKTP.KD.ZG</th>\n",
       "      <td>0.075766</td>\n",
       "      <td>0.061185</td>\n",
       "      <td>-0.001524</td>\n",
       "      <td>1.000000</td>\n",
       "      <td>-0.105274</td>\n",
       "      <td>0.940562</td>\n",
       "      <td>0.224409</td>\n",
       "      <td>0.109652</td>\n",
       "      <td>0.186617</td>\n",
       "      <td>0.258526</td>\n",
       "    </tr>\n",
       "    <tr>\n",
       "      <th>NY.GDP.PCAP.CD</th>\n",
       "      <td>0.027982</td>\n",
       "      <td>0.089346</td>\n",
       "      <td>0.255522</td>\n",
       "      <td>-0.105274</td>\n",
       "      <td>1.000000</td>\n",
       "      <td>-0.044186</td>\n",
       "      <td>-0.181433</td>\n",
       "      <td>-0.041845</td>\n",
       "      <td>-0.307731</td>\n",
       "      <td>-0.296967</td>\n",
       "    </tr>\n",
       "    <tr>\n",
       "      <th>NY.GDP.PCAP.KD.ZG</th>\n",
       "      <td>0.114604</td>\n",
       "      <td>0.032974</td>\n",
       "      <td>0.040001</td>\n",
       "      <td>0.940562</td>\n",
       "      <td>-0.044186</td>\n",
       "      <td>1.000000</td>\n",
       "      <td>-0.117154</td>\n",
       "      <td>0.124803</td>\n",
       "      <td>-0.039113</td>\n",
       "      <td>-0.056802</td>\n",
       "    </tr>\n",
       "    <tr>\n",
       "      <th>SP.POP.GROW</th>\n",
       "      <td>-0.103972</td>\n",
       "      <td>0.082916</td>\n",
       "      <td>-0.120258</td>\n",
       "      <td>0.224409</td>\n",
       "      <td>-0.181433</td>\n",
       "      <td>-0.117154</td>\n",
       "      <td>1.000000</td>\n",
       "      <td>-0.036359</td>\n",
       "      <td>0.661508</td>\n",
       "      <td>0.925932</td>\n",
       "    </tr>\n",
       "    <tr>\n",
       "      <th>SP.POP.TOTL</th>\n",
       "      <td>0.851005</td>\n",
       "      <td>0.054195</td>\n",
       "      <td>0.556573</td>\n",
       "      <td>0.109652</td>\n",
       "      <td>-0.041845</td>\n",
       "      <td>0.124803</td>\n",
       "      <td>-0.036359</td>\n",
       "      <td>1.000000</td>\n",
       "      <td>-0.075031</td>\n",
       "      <td>0.049950</td>\n",
       "    </tr>\n",
       "    <tr>\n",
       "      <th>SP.RUR.TOTL.ZG</th>\n",
       "      <td>-0.151118</td>\n",
       "      <td>0.065446</td>\n",
       "      <td>-0.146627</td>\n",
       "      <td>0.186617</td>\n",
       "      <td>-0.307731</td>\n",
       "      <td>-0.039113</td>\n",
       "      <td>0.661508</td>\n",
       "      <td>-0.075031</td>\n",
       "      <td>1.000000</td>\n",
       "      <td>0.553075</td>\n",
       "    </tr>\n",
       "    <tr>\n",
       "      <th>SP.URB.GROW</th>\n",
       "      <td>-0.024731</td>\n",
       "      <td>0.048692</td>\n",
       "      <td>-0.098193</td>\n",
       "      <td>0.258526</td>\n",
       "      <td>-0.296967</td>\n",
       "      <td>-0.056802</td>\n",
       "      <td>0.925932</td>\n",
       "      <td>0.049950</td>\n",
       "      <td>0.553075</td>\n",
       "      <td>1.000000</td>\n",
       "    </tr>\n",
       "  </tbody>\n",
       "</table>\n",
       "</div>"
      ],
      "text/plain": [
       "                     TOTAL_INTL_STUDENTS  EN.POP.DNST  NY.GDP.MKTP.CD  \\\n",
       "TOTAL_INTL_STUDENTS             1.000000     0.014146        0.574196   \n",
       "EN.POP.DNST                     0.014146     1.000000       -0.014259   \n",
       "NY.GDP.MKTP.CD                  0.574196    -0.014259        1.000000   \n",
       "NY.GDP.MKTP.KD.ZG               0.075766     0.061185       -0.001524   \n",
       "NY.GDP.PCAP.CD                  0.027982     0.089346        0.255522   \n",
       "NY.GDP.PCAP.KD.ZG               0.114604     0.032974        0.040001   \n",
       "SP.POP.GROW                    -0.103972     0.082916       -0.120258   \n",
       "SP.POP.TOTL                     0.851005     0.054195        0.556573   \n",
       "SP.RUR.TOTL.ZG                 -0.151118     0.065446       -0.146627   \n",
       "SP.URB.GROW                    -0.024731     0.048692       -0.098193   \n",
       "\n",
       "                     NY.GDP.MKTP.KD.ZG  NY.GDP.PCAP.CD  NY.GDP.PCAP.KD.ZG  \\\n",
       "TOTAL_INTL_STUDENTS           0.075766        0.027982           0.114604   \n",
       "EN.POP.DNST                   0.061185        0.089346           0.032974   \n",
       "NY.GDP.MKTP.CD               -0.001524        0.255522           0.040001   \n",
       "NY.GDP.MKTP.KD.ZG             1.000000       -0.105274           0.940562   \n",
       "NY.GDP.PCAP.CD               -0.105274        1.000000          -0.044186   \n",
       "NY.GDP.PCAP.KD.ZG             0.940562       -0.044186           1.000000   \n",
       "SP.POP.GROW                   0.224409       -0.181433          -0.117154   \n",
       "SP.POP.TOTL                   0.109652       -0.041845           0.124803   \n",
       "SP.RUR.TOTL.ZG                0.186617       -0.307731          -0.039113   \n",
       "SP.URB.GROW                   0.258526       -0.296967          -0.056802   \n",
       "\n",
       "                     SP.POP.GROW  SP.POP.TOTL  SP.RUR.TOTL.ZG  SP.URB.GROW  \n",
       "TOTAL_INTL_STUDENTS    -0.103972     0.851005       -0.151118    -0.024731  \n",
       "EN.POP.DNST             0.082916     0.054195        0.065446     0.048692  \n",
       "NY.GDP.MKTP.CD         -0.120258     0.556573       -0.146627    -0.098193  \n",
       "NY.GDP.MKTP.KD.ZG       0.224409     0.109652        0.186617     0.258526  \n",
       "NY.GDP.PCAP.CD         -0.181433    -0.041845       -0.307731    -0.296967  \n",
       "NY.GDP.PCAP.KD.ZG      -0.117154     0.124803       -0.039113    -0.056802  \n",
       "SP.POP.GROW             1.000000    -0.036359        0.661508     0.925932  \n",
       "SP.POP.TOTL            -0.036359     1.000000       -0.075031     0.049950  \n",
       "SP.RUR.TOTL.ZG          0.661508    -0.075031        1.000000     0.553075  \n",
       "SP.URB.GROW             0.925932     0.049950        0.553075     1.000000  "
      ]
     },
     "execution_count": 34,
     "metadata": {},
     "output_type": "execute_result"
    }
   ],
   "source": [
    "corrdata = resdf.corr()\n",
    "corrdata"
   ]
  },
  {
   "cell_type": "code",
   "execution_count": 35,
   "metadata": {},
   "outputs": [
    {
     "data": {
      "text/plain": [
       "<AxesSubplot:>"
      ]
     },
     "execution_count": 35,
     "metadata": {},
     "output_type": "execute_result"
    },
    {
     "data": {
      "image/png": "[encoded data removed]",
      "text/plain": [
       "<Figure size 864x720 with 2 Axes>"
      ]
     },
     "metadata": {
      "needs_background": "light"
     },
     "output_type": "display_data"
    }
   ],
   "source": [
    "plt.figure(figsize=(12,10))\n",
    "sns.heatmap(data=corrdata, annot=True)"
   ]
  },
  {
   "cell_type": "markdown",
   "metadata": {},
   "source": [
    "Seems that there are multiple features that have almost no correlation with the number of international students.\n",
    "\n",
    "Therefore, we might as well check with features have some correlation to international students."
   ]
  },
  {
   "cell_type": "code",
   "execution_count": 36,
   "metadata": {},
   "outputs": [
    {
     "data": {
      "image/png": "[encoded data removed]",
      "text/plain": [
       "<Figure size 720x720 with 2 Axes>"
      ]
     },
     "metadata": {
      "needs_background": "light"
     },
     "output_type": "display_data"
    }
   ],
   "source": [
    "corrmat = resdf.corr()\n",
    "top_corr_features = corrmat.index[abs(corrmat['TOTAL_INTL_STUDENTS'])>0.5]\n",
    "plt.figure(figsize=(10,10))\n",
    "g = sns.heatmap(resdf[top_corr_features].corr(),annot=True,cmap=\"Spectral\")"
   ]
  },
  {
   "cell_type": "markdown",
   "metadata": {},
   "source": [
    "Only the Total Population and annual GDP have significant to the international students."
   ]
  },
  {
   "cell_type": "markdown",
   "metadata": {},
   "source": [
    "### GDP vs International Students"
   ]
  },
  {
   "cell_type": "code",
   "execution_count": 37,
   "metadata": {},
   "outputs": [
    {
     "data": {
      "text/plain": [
       "Text(0, 0.5, 'Total International Students')"
      ]
     },
     "execution_count": 37,
     "metadata": {},
     "output_type": "execute_result"
    },
    {
     "data": {
      "image/png": "[encoded data removed]",
      "text/plain": [
       "<Figure size 1080x720 with 1 Axes>"
      ]
     },
     "metadata": {
      "needs_background": "light"
     },
     "output_type": "display_data"
    }
   ],
   "source": [
    "plt.figure(figsize=(15,10))\n",
    "plt.scatter(resdf['NY.GDP.MKTP.CD'], resdf['TOTAL_INTL_STUDENTS'], c='r')\n",
    "plt.xlabel('GDP per capita (current USD)')\n",
    "plt.ylabel('Total International Students')"
   ]
  },
  {
   "cell_type": "markdown",
   "metadata": {},
   "source": [
    "### Population vs International Students"
   ]
  },
  {
   "cell_type": "code",
   "execution_count": 38,
   "metadata": {},
   "outputs": [
    {
     "data": {
      "text/plain": [
       "Text(0, 0.5, 'Total International Students')"
      ]
     },
     "execution_count": 38,
     "metadata": {},
     "output_type": "execute_result"
    },
    {
     "data": {
      "image/png": "[encoded data removed]",
      "text/plain": [
       "<Figure size 1080x720 with 1 Axes>"
      ]
     },
     "metadata": {
      "needs_background": "light"
     },
     "output_type": "display_data"
    }
   ],
   "source": [
    "plt.figure(figsize=(15,10))\n",
    "plt.scatter(resdf['SP.POP.TOTL'], resdf['TOTAL_INTL_STUDENTS'], c='b')\n",
    "plt.xlabel('Total Population')\n",
    "plt.ylabel('Total International Students')"
   ]
  },
  {
   "cell_type": "markdown",
   "metadata": {},
   "source": [
    "### Modelling"
   ]
  },
  {
   "cell_type": "markdown",
   "metadata": {},
   "source": [
    "Just need to remove categorical features from the dataset.  Another consideration can be to generate dummies for these but the other features may be enough to describe the country/year."
   ]
  },
  {
   "cell_type": "code",
   "execution_count": 39,
   "metadata": {},
   "outputs": [],
   "source": [
    "resdf.drop(['COUNTRY_OF_ORIGIN','COUNTRY_CODE'],axis=1,inplace=True)"
   ]
  },
  {
   "cell_type": "markdown",
   "metadata": {},
   "source": [
    "#### Linear Regression"
   ]
  },
  {
   "cell_type": "code",
   "execution_count": 40,
   "metadata": {},
   "outputs": [
    {
     "name": "stdout",
     "output_type": "stream",
     "text": [
      "Mean Squared Error:  10799025141.759243\n",
      "R2 Score:  0.7539917011089103\n"
     ]
    }
   ],
   "source": [
    "from sklearn.model_selection import train_test_split\n",
    "from sklearn.linear_model import LinearRegression\n",
    "from sklearn.metrics import mean_squared_error, r2_score\n",
    "\n",
    "X = pd.DataFrame(np.c_[resdf['NY.GDP.MKTP.CD'],resdf['SP.POP.TOTL']], columns=['NY.GDP.MKTP.CD','SP.POP.TOTL'])\n",
    "Y = resdf['TOTAL_INTL_STUDENTS']\n",
    "\n",
    "X_train, X_test, y_train, y_test = train_test_split(X, Y, test_size = 0.2, random_state=0)\n",
    "lin_model = LinearRegression()\n",
    "lin_model.fit(X_train, y_train)\n",
    "\n",
    "y_pred = lin_model.predict(X_test)\n",
    "\n",
    "print('Mean Squared Error: ', mean_squared_error(y_test, y_pred))\n",
    "print('R2 Score: ', r2_score(y_test, y_pred))"
   ]
  },
  {
   "cell_type": "code",
   "execution_count": 41,
   "metadata": {},
   "outputs": [
    {
     "name": "stdout",
     "output_type": "stream",
     "text": [
      "Mean Squared Error:  10625208629.595928\n",
      "R2 Score:  0.7579513459764019\n"
     ]
    }
   ],
   "source": [
    "from sklearn.model_selection import train_test_split\n",
    "from sklearn.linear_model import LinearRegression\n",
    "from sklearn.metrics import mean_squared_error, r2_score\n",
    "\n",
    "X = resdf.copy()\n",
    "X.drop(['TOTAL_INTL_STUDENTS'],axis=1,inplace=True)\n",
    "Y = resdf['TOTAL_INTL_STUDENTS']\n",
    "\n",
    "X_train, X_test, y_train, y_test = train_test_split(X, Y, test_size = 0.2, random_state=0)\n",
    "lin_model = LinearRegression()\n",
    "lin_model.fit(X_train, y_train)\n",
    "\n",
    "y_pred = lin_model.predict(X_test)\n",
    "\n",
    "print('Mean Squared Error: ', mean_squared_error(y_test, y_pred))\n",
    "print('R2 Score: ', r2_score(y_test, y_pred))"
   ]
  },
  {
   "cell_type": "markdown",
   "metadata": {},
   "source": [
    "The score for using the Linear Model against the validation test (20%) is pretty modest.  As only the GDP and Population\n",
    "are the only ones that have significant correlation to International Students, the model using only those 2 features have\n",
    "around the same score as that of the one which also uses the other features."
   ]
  },
  {
   "cell_type": "markdown",
   "metadata": {},
   "source": [
    "#### Gradient Boosting Regressor"
   ]
  },
  {
   "cell_type": "code",
   "execution_count": 42,
   "metadata": {},
   "outputs": [
    {
     "name": "stdout",
     "output_type": "stream",
     "text": [
      "Mean Squared Error:  719910964.7041368\n",
      "R2 Score:  0.9835999944944053\n"
     ]
    }
   ],
   "source": [
    "from sklearn.model_selection import train_test_split\n",
    "from sklearn.ensemble import GradientBoostingRegressor\n",
    "from sklearn.metrics import mean_squared_error, r2_score\n",
    "\n",
    "X = pd.DataFrame(np.c_[resdf['NY.GDP.MKTP.CD'],resdf['SP.POP.TOTL']], columns=['NY.GDP.MKTP.CD','SP.POP.TOTL'])\n",
    "Y = resdf['TOTAL_INTL_STUDENTS']\n",
    "\n",
    "X_train, X_test, y_train, y_test = train_test_split(X, Y, test_size = 0.2, random_state=0)\n",
    "clf = GradientBoostingRegressor().fit(X_train, y_train)\n",
    "\n",
    "y_pred = clf.predict(X_test)\n",
    "print('Mean Squared Error: ', mean_squared_error(y_test, y_pred))\n",
    "print('R2 Score: ', r2_score(y_test, y_pred))"
   ]
  },
  {
   "cell_type": "code",
   "execution_count": 43,
   "metadata": {},
   "outputs": [
    {
     "name": "stdout",
     "output_type": "stream",
     "text": [
      "Mean Squared Error:  553844792.9629636\n",
      "R2 Score:  0.9873830819376803\n"
     ]
    }
   ],
   "source": [
    "from sklearn.model_selection import train_test_split\n",
    "from sklearn.ensemble import GradientBoostingRegressor\n",
    "from sklearn.metrics import mean_squared_error, r2_score\n",
    "\n",
    "X = resdf.copy()\n",
    "X.drop(['TOTAL_INTL_STUDENTS'],axis=1,inplace=True)\n",
    "Y = resdf['TOTAL_INTL_STUDENTS']\n",
    "\n",
    "X_train, X_test, y_train, y_test = train_test_split(X, Y, test_size = 0.2, random_state=0)\n",
    "clf = GradientBoostingRegressor().fit(X_train, y_train)\n",
    "\n",
    "y_pred = clf.predict(X_test)\n",
    "print('Mean Squared Error: ', mean_squared_error(y_test, y_pred))\n",
    "print('R2 Score: ', r2_score(y_test, y_pred))"
   ]
  },
  {
   "cell_type": "markdown",
   "metadata": {},
   "source": [
    "The score is better than Linear Regression and behavior is also the same where using only GDP and Population as features for the model have the similar score to using the other features with them."
   ]
  },
  {
   "cell_type": "markdown",
   "metadata": {},
   "source": [
    "## International Students' percentage of population vs World Development Indicators\n",
    "\n",
    "As the total population of a country relates so much to the number of international students, it may be better to check World Development Indicators against what percentage of a country's population are international students."
   ]
  },
  {
   "cell_type": "code",
   "execution_count": 44,
   "metadata": {},
   "outputs": [],
   "source": [
    "resdf2 = resdf.copy()\n",
    "resdf2 = resdf2.astype({'SP.POP.TOTL':'float64'})\n",
    "resdf2['PERCENT_POP'] = resdf2['TOTAL_INTL_STUDENTS']/resdf2['SP.POP.TOTL'] *100"
   ]
  },
  {
   "cell_type": "markdown",
   "metadata": {},
   "source": [
    "### Statistics Measures"
   ]
  },
  {
   "cell_type": "code",
   "execution_count": 45,
   "metadata": {},
   "outputs": [
    {
     "name": "stdout",
     "output_type": "stream",
     "text": [
      "Min 0.0007579431015903352\n",
      "Max 11.110769797874301\n",
      "Mean 0.35318753948866144\n",
      "Median 0.16896994621564376\n",
      "Variance 0.5120847322796792\n"
     ]
    }
   ],
   "source": [
    "print('Min', resdf2['PERCENT_POP'].min())\n",
    "print('Max', resdf2['PERCENT_POP'].max())\n",
    "print('Mean', resdf2['PERCENT_POP'].mean())\n",
    "print('Median', resdf2['PERCENT_POP'].median())\n",
    "print('Variance', resdf2['PERCENT_POP'].var())"
   ]
  },
  {
   "cell_type": "markdown",
   "metadata": {},
   "source": [
    "Unlike just the total number of students, the gap from the max value against the mean is smaller."
   ]
  },
  {
   "cell_type": "markdown",
   "metadata": {},
   "source": [
    "### Correlation Matrix"
   ]
  },
  {
   "cell_type": "code",
   "execution_count": 46,
   "metadata": {},
   "outputs": [
    {
     "data": {
      "text/plain": [
       "<AxesSubplot:>"
      ]
     },
     "execution_count": 46,
     "metadata": {},
     "output_type": "execute_result"
    },
    {
     "data": {
      "image/png": "[encoded data removed]",
      "text/plain": [
       "<Figure size 864x720 with 2 Axes>"
      ]
     },
     "metadata": {
      "needs_background": "light"
     },
     "output_type": "display_data"
    }
   ],
   "source": [
    "resdf2.drop(['SP.POP.TOTL','TOTAL_INTL_STUDENTS'],axis=1,inplace=True)\n",
    "corrdata2 = resdf2.corr()\n",
    "plt.figure(figsize=(12,10))\n",
    "sns.heatmap(data=corrdata2, annot=True)"
   ]
  },
  {
   "cell_type": "markdown",
   "metadata": {},
   "source": [
    "It seems none of the existing indicators have high correlation to the percent poulation are international students.\n",
    "\n",
    "Now, we can check if models perform to predict this."
   ]
  },
  {
   "cell_type": "markdown",
   "metadata": {},
   "source": [
    "### Modelling"
   ]
  },
  {
   "cell_type": "markdown",
   "metadata": {},
   "source": [
    "#### Linear Regression"
   ]
  },
  {
   "cell_type": "code",
   "execution_count": 47,
   "metadata": {},
   "outputs": [
    {
     "name": "stdout",
     "output_type": "stream",
     "text": [
      "Mean Squared Error:  0.27862762258112017\n",
      "R2 Score:  0.20951083175623675\n"
     ]
    }
   ],
   "source": [
    "from sklearn.model_selection import train_test_split\n",
    "from sklearn.linear_model import LinearRegression\n",
    "from sklearn.metrics import mean_squared_error, r2_score\n",
    "\n",
    "X = resdf2.copy()\n",
    "X.drop(['PERCENT_POP'],axis=1,inplace=True)\n",
    "Y = resdf2['PERCENT_POP']\n",
    "\n",
    "X_train, X_test, y_train, y_test = train_test_split(X, Y, test_size = 0.2, random_state=0)\n",
    "lin_model = LinearRegression()\n",
    "lin_model.fit(X_train, y_train)\n",
    "\n",
    "y_pred = lin_model.predict(X_test)\n",
    "\n",
    "print('Mean Squared Error: ', mean_squared_error(y_test, y_pred))\n",
    "print('R2 Score: ', r2_score(y_test, y_pred))"
   ]
  },
  {
   "cell_type": "markdown",
   "metadata": {},
   "source": [
    "#### Gradient Boosting Regressor"
   ]
  },
  {
   "cell_type": "code",
   "execution_count": 48,
   "metadata": {},
   "outputs": [
    {
     "name": "stdout",
     "output_type": "stream",
     "text": [
      "Mean Squared Error:  0.06750674376128404\n",
      "R2 Score:  0.8084778916305544\n"
     ]
    }
   ],
   "source": [
    "from sklearn.model_selection import train_test_split\n",
    "from sklearn.ensemble import GradientBoostingRegressor\n",
    "from sklearn.metrics import mean_squared_error, r2_score\n",
    "\n",
    "X = resdf2.copy()\n",
    "X.drop(['PERCENT_POP'],axis=1,inplace=True)\n",
    "Y = resdf2['PERCENT_POP']\n",
    "\n",
    "X_train, X_test, y_train, y_test = train_test_split(X, Y, test_size = 0.2, random_state=0)\n",
    "clf = GradientBoostingRegressor().fit(X_train, y_train)\n",
    "\n",
    "y_pred = clf.predict(X_test)\n",
    "print('Mean Squared Error: ', mean_squared_error(y_test, y_pred))\n",
    "print('R2 Score: ', r2_score(y_test, y_pred))"
   ]
  },
  {
   "cell_type": "markdown",
   "metadata": {},
   "source": [
    "The score on Gradient Boosting Regressor is much better than Linear Regression as there were no prominent features with correlation to the percent population."
   ]
  },
  {
   "cell_type": "markdown",
   "metadata": {},
   "source": [
    "## Takeaways\n",
    "\n",
    "As there maybe some insights found in the International Students Data against World Development Indicators, maybe additional features against this can be checked.  Aside from World Development Indicators, data relating to cultural behaviors to each country may help as those may be close to describing people in that country.\n",
    "\n",
    "However, it does makes sense that Population and GDP does relate to International Students.  Countries that are prospering than others do have means to go abroad for whatever purpose.  On the other hand, having the fact that a countries has a large population, more people would consider international education.\n",
    "\n",
    "When Percentage of Population of International Students is used, correlation is not prominent.  In the same fashion, now that the number of international students is \"normalized\" against the country's population, values looks fairly distributed across all countries."
   ]
  }
 ],
 "metadata": {
  "kernelspec": {
   "display_name": "Python 3.9.12 ('google_analytics_cert')",
   "language": "python",
   "name": "python3"
  },
  "language_info": {
   "codemirror_mode": {
    "name": "ipython",
    "version": 3
   },
   "file_extension": ".py",
   "mimetype": "text/x-python",
   "name": "python",
   "nbconvert_exporter": "python",
   "pygments_lexer": "ipython3",
   "version": "3.9.12"
  },
  "vscode": {
   "interpreter": {
    "hash": "ed7670ed09755f587c04ad1d640d15a134edbfe4ad5359d9b1d26866f39a2661"
   }
  }
 },
 "nbformat": 4,
 "nbformat_minor": 4
}
